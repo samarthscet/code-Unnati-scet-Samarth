{
 "cells": [
  {
   "cell_type": "markdown",
   "id": "2faf1055",
   "metadata": {},
   "source": [
    "# Basic math operations"
   ]
  },
  {
   "cell_type": "code",
   "execution_count": 1,
   "id": "a62748b3",
   "metadata": {},
   "outputs": [
    {
     "data": {
      "text/plain": [
       "4"
      ]
     },
     "execution_count": 1,
     "metadata": {},
     "output_type": "execute_result"
    }
   ],
   "source": [
    "2+2  #addition"
   ]
  },
  {
   "cell_type": "code",
   "execution_count": 2,
   "id": "51488cf6",
   "metadata": {},
   "outputs": [
    {
     "data": {
      "text/plain": [
       "1024"
      ]
     },
     "execution_count": 2,
     "metadata": {},
     "output_type": "execute_result"
    }
   ],
   "source": [
    "4**5  #power"
   ]
  },
  {
   "cell_type": "code",
   "execution_count": 4,
   "id": "c2eb5370",
   "metadata": {},
   "outputs": [
    {
     "data": {
      "text/plain": [
       "42.0"
      ]
     },
     "execution_count": 4,
     "metadata": {},
     "output_type": "execute_result"
    }
   ],
   "source": [
    "84/2  #divison"
   ]
  },
  {
   "cell_type": "code",
   "execution_count": 5,
   "id": "0d06717e",
   "metadata": {},
   "outputs": [
    {
     "data": {
      "text/plain": [
       "221"
      ]
     },
     "execution_count": 5,
     "metadata": {},
     "output_type": "execute_result"
    }
   ],
   "source": [
    "459-238  #minus"
   ]
  },
  {
   "cell_type": "code",
   "execution_count": 6,
   "id": "4064fc5d",
   "metadata": {},
   "outputs": [
    {
     "data": {
      "text/plain": [
       "3200"
      ]
     },
     "execution_count": 6,
     "metadata": {},
     "output_type": "execute_result"
    }
   ],
   "source": [
    "40*80   #multiplication"
   ]
  },
  {
   "cell_type": "code",
   "execution_count": 7,
   "id": "a5b09a76",
   "metadata": {},
   "outputs": [
    {
     "data": {
      "text/plain": [
       "4"
      ]
     },
     "execution_count": 7,
     "metadata": {},
     "output_type": "execute_result"
    }
   ],
   "source": [
    "4%5    #modulus"
   ]
  },
  {
   "cell_type": "code",
   "execution_count": 9,
   "id": "376b8aca",
   "metadata": {},
   "outputs": [
    {
     "data": {
      "text/plain": [
       "1.333333333333334"
      ]
     },
     "execution_count": 9,
     "metadata": {},
     "output_type": "execute_result"
    }
   ],
   "source": [
    "6+6-4*8/3"
   ]
  },
  {
   "cell_type": "code",
   "execution_count": 10,
   "id": "f4fa930c",
   "metadata": {},
   "outputs": [
    {
     "name": "stdout",
     "output_type": "stream",
     "text": [
      "Hi Hinali❤️\n"
     ]
    }
   ],
   "source": [
    "print(\"Hi Hinali❤️\")"
   ]
  },
  {
   "cell_type": "markdown",
   "id": "4aa8952d",
   "metadata": {},
   "source": [
    "# variable"
   ]
  },
  {
   "cell_type": "code",
   "execution_count": 11,
   "id": "afda4e46",
   "metadata": {},
   "outputs": [],
   "source": [
    "a=60\n",
    "b=22.222\n"
   ]
  },
  {
   "cell_type": "code",
   "execution_count": 12,
   "id": "5f8b376f",
   "metadata": {},
   "outputs": [
    {
     "data": {
      "text/plain": [
       "60"
      ]
     },
     "execution_count": 12,
     "metadata": {},
     "output_type": "execute_result"
    }
   ],
   "source": [
    "a"
   ]
  },
  {
   "cell_type": "code",
   "execution_count": 13,
   "id": "5812310d",
   "metadata": {},
   "outputs": [
    {
     "data": {
      "text/plain": [
       "22.222"
      ]
     },
     "execution_count": 13,
     "metadata": {},
     "output_type": "execute_result"
    }
   ],
   "source": [
    "b"
   ]
  },
  {
   "cell_type": "code",
   "execution_count": 14,
   "id": "5654f86c",
   "metadata": {},
   "outputs": [
    {
     "name": "stdout",
     "output_type": "stream",
     "text": [
      "60\n"
     ]
    }
   ],
   "source": [
    "print(a)"
   ]
  },
  {
   "cell_type": "code",
   "execution_count": 15,
   "id": "bd3e493a",
   "metadata": {},
   "outputs": [
    {
     "name": "stdout",
     "output_type": "stream",
     "text": [
      "22.222\n"
     ]
    }
   ],
   "source": [
    "print(b)"
   ]
  },
  {
   "cell_type": "code",
   "execution_count": 16,
   "id": "a770d7c6",
   "metadata": {},
   "outputs": [
    {
     "data": {
      "text/plain": [
       "int"
      ]
     },
     "execution_count": 16,
     "metadata": {},
     "output_type": "execute_result"
    }
   ],
   "source": [
    "type(a)"
   ]
  },
  {
   "cell_type": "code",
   "execution_count": 17,
   "id": "e85935bf",
   "metadata": {},
   "outputs": [
    {
     "data": {
      "text/plain": [
       "float"
      ]
     },
     "execution_count": 17,
     "metadata": {},
     "output_type": "execute_result"
    }
   ],
   "source": [
    "type(b)"
   ]
  },
  {
   "cell_type": "code",
   "execution_count": 18,
   "id": "1f1a1ab2",
   "metadata": {},
   "outputs": [],
   "source": [
    "c=\"SCET\"  #double inverter while writing text"
   ]
  },
  {
   "cell_type": "code",
   "execution_count": 19,
   "id": "66daa25a",
   "metadata": {},
   "outputs": [
    {
     "data": {
      "text/plain": [
       "'SCET'"
      ]
     },
     "execution_count": 19,
     "metadata": {},
     "output_type": "execute_result"
    }
   ],
   "source": [
    "c"
   ]
  },
  {
   "cell_type": "code",
   "execution_count": 20,
   "id": "ea0294fd",
   "metadata": {},
   "outputs": [
    {
     "data": {
      "text/plain": [
       "str"
      ]
     },
     "execution_count": 20,
     "metadata": {},
     "output_type": "execute_result"
    }
   ],
   "source": [
    "type(c)"
   ]
  },
  {
   "cell_type": "code",
   "execution_count": 22,
   "id": "9a245f5d",
   "metadata": {},
   "outputs": [],
   "source": [
    "d=True #first letter must be capital"
   ]
  },
  {
   "cell_type": "code",
   "execution_count": 23,
   "id": "62aa7bdb",
   "metadata": {},
   "outputs": [
    {
     "data": {
      "text/plain": [
       "True"
      ]
     },
     "execution_count": 23,
     "metadata": {},
     "output_type": "execute_result"
    }
   ],
   "source": [
    "d"
   ]
  },
  {
   "cell_type": "code",
   "execution_count": 24,
   "id": "dbc6bc33",
   "metadata": {},
   "outputs": [
    {
     "data": {
      "text/plain": [
       "bool"
      ]
     },
     "execution_count": 24,
     "metadata": {},
     "output_type": "execute_result"
    }
   ],
   "source": [
    "type(d)"
   ]
  },
  {
   "cell_type": "markdown",
   "id": "8a649163",
   "metadata": {},
   "source": [
    "# Math operation on variable"
   ]
  },
  {
   "cell_type": "code",
   "execution_count": 26,
   "id": "7d16d32c",
   "metadata": {},
   "outputs": [],
   "source": [
    "a=4\n",
    "b=5\n",
    "c=8\n",
    "d=12"
   ]
  },
  {
   "cell_type": "code",
   "execution_count": 27,
   "id": "e1b30b8d",
   "metadata": {},
   "outputs": [
    {
     "data": {
      "text/plain": [
       "12"
      ]
     },
     "execution_count": 27,
     "metadata": {},
     "output_type": "execute_result"
    }
   ],
   "source": [
    "a+c"
   ]
  },
  {
   "cell_type": "code",
   "execution_count": 28,
   "id": "5d819a63",
   "metadata": {},
   "outputs": [
    {
     "data": {
      "text/plain": [
       "7"
      ]
     },
     "execution_count": 28,
     "metadata": {},
     "output_type": "execute_result"
    }
   ],
   "source": [
    "d-b"
   ]
  },
  {
   "cell_type": "code",
   "execution_count": 29,
   "id": "4d082cd4",
   "metadata": {},
   "outputs": [
    {
     "data": {
      "text/plain": [
       "1024"
      ]
     },
     "execution_count": 29,
     "metadata": {},
     "output_type": "execute_result"
    }
   ],
   "source": [
    "a**b"
   ]
  },
  {
   "cell_type": "code",
   "execution_count": 30,
   "id": "7d0fb467",
   "metadata": {},
   "outputs": [
    {
     "data": {
      "text/plain": [
       "40"
      ]
     },
     "execution_count": 30,
     "metadata": {},
     "output_type": "execute_result"
    }
   ],
   "source": [
    "b*c"
   ]
  },
  {
   "cell_type": "code",
   "execution_count": 31,
   "id": "ac6b81c8",
   "metadata": {},
   "outputs": [
    {
     "data": {
      "text/plain": [
       "3.0"
      ]
     },
     "execution_count": 31,
     "metadata": {},
     "output_type": "execute_result"
    }
   ],
   "source": [
    "d/a"
   ]
  },
  {
   "cell_type": "code",
   "execution_count": 32,
   "id": "faf4213c",
   "metadata": {},
   "outputs": [
    {
     "data": {
      "text/plain": [
       "4"
      ]
     },
     "execution_count": 32,
     "metadata": {},
     "output_type": "execute_result"
    }
   ],
   "source": [
    "a%c"
   ]
  },
  {
   "cell_type": "code",
   "execution_count": 33,
   "id": "da5eb019",
   "metadata": {},
   "outputs": [
    {
     "data": {
      "text/plain": [
       "10.666666666666666"
      ]
     },
     "execution_count": 33,
     "metadata": {},
     "output_type": "execute_result"
    }
   ],
   "source": [
    "a*c/d*a"
   ]
  },
  {
   "cell_type": "code",
   "execution_count": 34,
   "id": "8246508c",
   "metadata": {},
   "outputs": [
    {
     "data": {
      "text/plain": [
       "1638.4"
      ]
     },
     "execution_count": 34,
     "metadata": {},
     "output_type": "execute_result"
    }
   ],
   "source": [
    "a**b/b*c"
   ]
  },
  {
   "cell_type": "code",
   "execution_count": 35,
   "id": "4835b548",
   "metadata": {},
   "outputs": [
    {
     "data": {
      "text/plain": [
       "95"
      ]
     },
     "execution_count": 35,
     "metadata": {},
     "output_type": "execute_result"
    }
   ],
   "source": [
    "a+c*d-b"
   ]
  },
  {
   "cell_type": "markdown",
   "id": "41e00293",
   "metadata": {},
   "source": [
    "# use input keyword to take input from user"
   ]
  },
  {
   "cell_type": "code",
   "execution_count": 36,
   "id": "87942a6b",
   "metadata": {},
   "outputs": [
    {
     "name": "stdout",
     "output_type": "stream",
     "text": [
      "enter the value of the x6\n"
     ]
    }
   ],
   "source": [
    "x=int(input(\"enter the value of the x\"))"
   ]
  },
  {
   "cell_type": "code",
   "execution_count": 37,
   "id": "bf3e4583",
   "metadata": {},
   "outputs": [
    {
     "data": {
      "text/plain": [
       "6"
      ]
     },
     "execution_count": 37,
     "metadata": {},
     "output_type": "execute_result"
    }
   ],
   "source": [
    "x"
   ]
  },
  {
   "cell_type": "code",
   "execution_count": 38,
   "id": "173c7ccd",
   "metadata": {},
   "outputs": [
    {
     "name": "stdout",
     "output_type": "stream",
     "text": [
      "enter the value of the x6\n",
      "enter the value of the y4\n",
      "1296\n"
     ]
    }
   ],
   "source": [
    "x=int(input(\"enter the value of the x\"))\n",
    "y=int(input(\"enter the value of the y\"))\n",
    "z=x**y  #power of x,y\n",
    "print(z)"
   ]
  },
  {
   "cell_type": "code",
   "execution_count": 39,
   "id": "8da739fd",
   "metadata": {},
   "outputs": [
    {
     "data": {
      "text/plain": [
       "1296"
      ]
     },
     "execution_count": 39,
     "metadata": {},
     "output_type": "execute_result"
    }
   ],
   "source": [
    "z"
   ]
  },
  {
   "cell_type": "markdown",
   "id": "1fb4dfb7",
   "metadata": {},
   "source": [
    "# string concatenation"
   ]
  },
  {
   "cell_type": "code",
   "execution_count": 53,
   "id": "0d18a79e",
   "metadata": {},
   "outputs": [],
   "source": [
    "#creating full namstr\n",
    "str1=\"NAMRATA\"\n",
    "str2=\"TRIVEDI\"\n",
    "str3=\" \""
   ]
  },
  {
   "cell_type": "code",
   "execution_count": 54,
   "id": "858e736b",
   "metadata": {},
   "outputs": [
    {
     "data": {
      "text/plain": [
       "'NAMRATA'"
      ]
     },
     "execution_count": 54,
     "metadata": {},
     "output_type": "execute_result"
    }
   ],
   "source": [
    "str1"
   ]
  },
  {
   "cell_type": "code",
   "execution_count": 55,
   "id": "f0c6a446",
   "metadata": {},
   "outputs": [
    {
     "data": {
      "text/plain": [
       "'TRIVEDI'"
      ]
     },
     "execution_count": 55,
     "metadata": {},
     "output_type": "execute_result"
    }
   ],
   "source": [
    "str2"
   ]
  },
  {
   "cell_type": "code",
   "execution_count": 56,
   "id": "3409c2a1",
   "metadata": {},
   "outputs": [
    {
     "data": {
      "text/plain": [
       "'NAMRATA TRIVEDI'"
      ]
     },
     "execution_count": 56,
     "metadata": {},
     "output_type": "execute_result"
    }
   ],
   "source": [
    "str4 = str1 + str3 + str2\n",
    "str4"
   ]
  },
  {
   "cell_type": "code",
   "execution_count": 58,
   "id": "353e3fbc",
   "metadata": {},
   "outputs": [
    {
     "data": {
      "text/plain": [
       "'NAMRATA TRIVEDI'"
      ]
     },
     "execution_count": 58,
     "metadata": {},
     "output_type": "execute_result"
    }
   ],
   "source": [
    "str5=str1 +\" \"+str2\n",
    "str5"
   ]
  },
  {
   "cell_type": "code",
   "execution_count": 60,
   "id": "32595fe4",
   "metadata": {},
   "outputs": [
    {
     "data": {
      "text/plain": [
       "'A'"
      ]
     },
     "execution_count": 60,
     "metadata": {},
     "output_type": "execute_result"
    }
   ],
   "source": [
    "str5[1]"
   ]
  },
  {
   "cell_type": "code",
   "execution_count": 63,
   "id": "a691e0c3",
   "metadata": {},
   "outputs": [
    {
     "data": {
      "text/plain": [
       "'NAMRATA'"
      ]
     },
     "execution_count": 63,
     "metadata": {},
     "output_type": "execute_result"
    }
   ],
   "source": [
    "str5[0:7]"
   ]
  },
  {
   "cell_type": "code",
   "execution_count": 66,
   "id": "efa9ba18",
   "metadata": {},
   "outputs": [
    {
     "data": {
      "text/plain": [
       "'TRIVEDI'"
      ]
     },
     "execution_count": 66,
     "metadata": {},
     "output_type": "execute_result"
    }
   ],
   "source": [
    "str5[-7:]"
   ]
  },
  {
   "cell_type": "code",
   "execution_count": 67,
   "id": "4d6e8696",
   "metadata": {},
   "outputs": [
    {
     "data": {
      "text/plain": [
       "'IV'"
      ]
     },
     "execution_count": 67,
     "metadata": {},
     "output_type": "execute_result"
    }
   ],
   "source": [
    "str5[-5:-3]"
   ]
  },
  {
   "cell_type": "markdown",
   "id": "73baf57f",
   "metadata": {},
   "source": [
    "# tuples in python"
   ]
  },
  {
   "cell_type": "code",
   "execution_count": 68,
   "id": "7f169214",
   "metadata": {},
   "outputs": [],
   "source": [
    "tup1=(\"surat\",22,\"bharat\",33,\"city of diamond\",100)"
   ]
  },
  {
   "cell_type": "code",
   "execution_count": 69,
   "id": "6902258f",
   "metadata": {},
   "outputs": [
    {
     "data": {
      "text/plain": [
       "('surat', 22, 'bharat', 33, 'city of diamond', 100)"
      ]
     },
     "execution_count": 69,
     "metadata": {},
     "output_type": "execute_result"
    }
   ],
   "source": [
    "tup1"
   ]
  },
  {
   "cell_type": "code",
   "execution_count": 70,
   "id": "f1002291",
   "metadata": {},
   "outputs": [
    {
     "data": {
      "text/plain": [
       "tuple"
      ]
     },
     "execution_count": 70,
     "metadata": {},
     "output_type": "execute_result"
    }
   ],
   "source": [
    "type(tup1)"
   ]
  },
  {
   "cell_type": "code",
   "execution_count": 71,
   "id": "1546a068",
   "metadata": {},
   "outputs": [
    {
     "data": {
      "text/plain": [
       "'bharat'"
      ]
     },
     "execution_count": 71,
     "metadata": {},
     "output_type": "execute_result"
    }
   ],
   "source": [
    "tup1[2]"
   ]
  },
  {
   "cell_type": "code",
   "execution_count": 73,
   "id": "b21bbd00",
   "metadata": {},
   "outputs": [
    {
     "data": {
      "text/plain": [
       "(22, 'bharat', 33, 'city of diamond', 100)"
      ]
     },
     "execution_count": 73,
     "metadata": {},
     "output_type": "execute_result"
    }
   ],
   "source": [
    "tup1[1:9]"
   ]
  },
  {
   "cell_type": "code",
   "execution_count": 75,
   "id": "2ff32857",
   "metadata": {},
   "outputs": [
    {
     "data": {
      "text/plain": [
       "('surat', 22, 'bharat', 33, 'city of diamond')"
      ]
     },
     "execution_count": 75,
     "metadata": {},
     "output_type": "execute_result"
    }
   ],
   "source": [
    "tup1[-9:-1]"
   ]
  },
  {
   "cell_type": "code",
   "execution_count": 76,
   "id": "f8544e00",
   "metadata": {},
   "outputs": [
    {
     "data": {
      "text/plain": [
       "('bharat', 33, 'city of diamond', 100)"
      ]
     },
     "execution_count": 76,
     "metadata": {},
     "output_type": "execute_result"
    }
   ],
   "source": [
    "tup1[-4:]"
   ]
  },
  {
   "cell_type": "code",
   "execution_count": 77,
   "id": "945e57d5",
   "metadata": {},
   "outputs": [],
   "source": [
    "tup2=(\"electronics\",22,\"electrical\",33,\"ic\",100)"
   ]
  },
  {
   "cell_type": "code",
   "execution_count": 78,
   "id": "7d8fde27",
   "metadata": {},
   "outputs": [],
   "source": [
    "tup3=tup1+tup2"
   ]
  },
  {
   "cell_type": "code",
   "execution_count": 79,
   "id": "72ac64c8",
   "metadata": {},
   "outputs": [
    {
     "data": {
      "text/plain": [
       "('surat',\n",
       " 22,\n",
       " 'bharat',\n",
       " 33,\n",
       " 'city of diamond',\n",
       " 100,\n",
       " 'electronics',\n",
       " 22,\n",
       " 'electrical',\n",
       " 33,\n",
       " 'ic',\n",
       " 100)"
      ]
     },
     "execution_count": 79,
     "metadata": {},
     "output_type": "execute_result"
    }
   ],
   "source": [
    "tup3"
   ]
  },
  {
   "cell_type": "code",
   "execution_count": 80,
   "id": "d399b3a4",
   "metadata": {},
   "outputs": [
    {
     "data": {
      "text/plain": [
       "12"
      ]
     },
     "execution_count": 80,
     "metadata": {},
     "output_type": "execute_result"
    }
   ],
   "source": [
    "len(tup3)"
   ]
  },
  {
   "cell_type": "markdown",
   "id": "089a1d31",
   "metadata": {},
   "source": [
    "# list in python"
   ]
  },
  {
   "cell_type": "code",
   "execution_count": 98,
   "id": "2b529029",
   "metadata": {},
   "outputs": [],
   "source": [
    "lst1=[\"surat\",22,\"bharat\",33,\"city of diamond\",100]"
   ]
  },
  {
   "cell_type": "code",
   "execution_count": 99,
   "id": "c9ed5ad5",
   "metadata": {},
   "outputs": [
    {
     "data": {
      "text/plain": [
       "['surat', 22, 'bharat', 33, 'city of diamond', 100]"
      ]
     },
     "execution_count": 99,
     "metadata": {},
     "output_type": "execute_result"
    }
   ],
   "source": [
    "lst1"
   ]
  },
  {
   "cell_type": "code",
   "execution_count": 100,
   "id": "efc9ca24",
   "metadata": {},
   "outputs": [],
   "source": [
    "lst1.remove('surat')"
   ]
  },
  {
   "cell_type": "markdown",
   "id": "4c423ad0",
   "metadata": {},
   "source": [
    "# dictionary"
   ]
  },
  {
   "cell_type": "code",
   "execution_count": 102,
   "id": "f1738a82",
   "metadata": {},
   "outputs": [],
   "source": [
    "dict1={\"Namrata\":\"namu\",\"Hinali\":\"hinu\"}"
   ]
  },
  {
   "cell_type": "code",
   "execution_count": 103,
   "id": "b9528705",
   "metadata": {},
   "outputs": [
    {
     "data": {
      "text/plain": [
       "{'Namrata': 'namu', 'Hinali': 'hinu'}"
      ]
     },
     "execution_count": 103,
     "metadata": {},
     "output_type": "execute_result"
    }
   ],
   "source": [
    "dict1"
   ]
  },
  {
   "cell_type": "code",
   "execution_count": 104,
   "id": "1718c1fb",
   "metadata": {},
   "outputs": [
    {
     "data": {
      "text/plain": [
       "dict"
      ]
     },
     "execution_count": 104,
     "metadata": {},
     "output_type": "execute_result"
    }
   ],
   "source": [
    "type(dict1)"
   ]
  },
  {
   "cell_type": "code",
   "execution_count": 105,
   "id": "33d2aa8d",
   "metadata": {},
   "outputs": [
    {
     "name": "stdout",
     "output_type": "stream",
     "text": [
      "dict_keys(['Namrata', 'Hinali'])\n"
     ]
    }
   ],
   "source": [
    "#print one key values\n",
    "print(dict1.keys())"
   ]
  },
  {
   "cell_type": "code",
   "execution_count": 107,
   "id": "ad54f378",
   "metadata": {},
   "outputs": [
    {
     "name": "stdout",
     "output_type": "stream",
     "text": [
      "dict_values(['namu', 'hinu'])\n"
     ]
    }
   ],
   "source": [
    "#print one only values\n",
    "print(dict1.values())"
   ]
  },
  {
   "cell_type": "code",
   "execution_count": 108,
   "id": "f0e3ab72",
   "metadata": {},
   "outputs": [],
   "source": [
    "from math import pi"
   ]
  },
  {
   "cell_type": "code",
   "execution_count": 109,
   "id": "16036692",
   "metadata": {},
   "outputs": [
    {
     "data": {
      "text/plain": [
       "3.141592653589793"
      ]
     },
     "execution_count": 109,
     "metadata": {},
     "output_type": "execute_result"
    }
   ],
   "source": [
    "pi"
   ]
  },
  {
   "cell_type": "code",
   "execution_count": 111,
   "id": "b4d2ea6e",
   "metadata": {},
   "outputs": [
    {
     "data": {
      "text/plain": [
       "78.53981633974483"
      ]
     },
     "execution_count": 111,
     "metadata": {},
     "output_type": "execute_result"
    }
   ],
   "source": [
    "#area of circle\n",
    "r=5\n",
    "area=pi*(r**2)\n",
    "area"
   ]
  },
  {
   "cell_type": "markdown",
   "id": "678d9c57",
   "metadata": {},
   "source": [
    "# For loop"
   ]
  },
  {
   "cell_type": "code",
   "execution_count": 116,
   "id": "5df641ef",
   "metadata": {},
   "outputs": [
    {
     "name": "stdout",
     "output_type": "stream",
     "text": [
      "0\n",
      "1\n",
      "2\n",
      "3\n",
      "4\n",
      "5\n",
      "6\n",
      "7\n",
      "8\n",
      "9\n"
     ]
    }
   ],
   "source": [
    "for i in range(10):\n",
    "    print(i)"
   ]
  },
  {
   "cell_type": "code",
   "execution_count": 118,
   "id": "18fa60e9",
   "metadata": {},
   "outputs": [
    {
     "name": "stdout",
     "output_type": "stream",
     "text": [
      "Hey\n",
      "Hey\n",
      "Hey\n",
      "Hey\n",
      "Hey\n",
      "Hey\n",
      "Hey\n",
      "Hey\n",
      "Hey\n",
      "Hey\n",
      "Hey\n",
      "Hey\n",
      "Hey\n",
      "Hey\n",
      "Hey\n",
      "Hey\n",
      "Hey\n",
      "Hey\n",
      "Hey\n",
      "Hey\n",
      "Hey\n",
      "Hey\n",
      "Hey\n",
      "Hey\n",
      "Hey\n",
      "Hey\n",
      "Hey\n",
      "Hey\n",
      "Hey\n",
      "Hey\n",
      "Hey\n",
      "Hey\n",
      "Hey\n",
      "Hey\n",
      "Hey\n",
      "Hey\n",
      "Hey\n",
      "Hey\n",
      "Hey\n",
      "Hey\n",
      "Hey\n",
      "Hey\n",
      "Hey\n",
      "Hey\n",
      "Hey\n",
      "Hey\n",
      "Hey\n",
      "Hey\n",
      "Hey\n",
      "Hey\n",
      "Hey\n",
      "Hey\n",
      "Hey\n",
      "Hey\n",
      "Hey\n",
      "Hey\n",
      "Hey\n",
      "Hey\n",
      "Hey\n",
      "Hey\n",
      "Hey\n",
      "Hey\n",
      "Hey\n",
      "Hey\n",
      "Hey\n",
      "Hey\n",
      "Hey\n",
      "Hey\n",
      "Hey\n",
      "Hey\n",
      "Hey\n",
      "Hey\n",
      "Hey\n",
      "Hey\n",
      "Hey\n",
      "Hey\n",
      "Hey\n",
      "Hey\n",
      "Hey\n",
      "Hey\n",
      "Hey\n",
      "Hey\n",
      "Hey\n",
      "Hey\n",
      "Hey\n",
      "Hey\n",
      "Hey\n",
      "Hey\n",
      "Hey\n",
      "Hey\n",
      "Hey\n",
      "Hey\n",
      "Hey\n",
      "Hey\n",
      "Hey\n",
      "Hey\n",
      "Hey\n",
      "Hey\n",
      "Hey\n",
      "Hey\n",
      "Hey\n",
      "Hey\n",
      "Hey\n",
      "Hey\n",
      "Hey\n",
      "Hey\n",
      "Hey\n",
      "Hey\n",
      "Hey\n",
      "Hey\n",
      "Hey\n",
      "Hey\n",
      "Hey\n",
      "Hey\n",
      "Hey\n",
      "Hey\n",
      "Hey\n",
      "Hey\n",
      "Hey\n",
      "Hey\n",
      "Hey\n",
      "Hey\n",
      "Hey\n",
      "Hey\n",
      "Hey\n",
      "Hey\n",
      "Hey\n",
      "Hey\n",
      "Hey\n",
      "Hey\n",
      "Hey\n",
      "Hey\n",
      "Hey\n",
      "Hey\n",
      "Hey\n",
      "Hey\n",
      "Hey\n",
      "Hey\n",
      "Hey\n",
      "Hey\n",
      "Hey\n",
      "Hey\n",
      "Hey\n",
      "Hey\n",
      "Hey\n",
      "Hey\n",
      "Hey\n",
      "Hey\n",
      "Hey\n",
      "Hey\n",
      "Hey\n",
      "Hey\n",
      "Hey\n",
      "Hey\n",
      "Hey\n",
      "Hey\n",
      "Hey\n",
      "Hey\n",
      "Hey\n",
      "Hey\n",
      "Hey\n",
      "Hey\n",
      "Hey\n",
      "Hey\n",
      "Hey\n",
      "Hey\n",
      "Hey\n",
      "Hey\n",
      "Hey\n",
      "Hey\n",
      "Hey\n",
      "Hey\n",
      "Hey\n",
      "Hey\n",
      "Hey\n",
      "Hey\n",
      "Hey\n",
      "Hey\n",
      "Hey\n",
      "Hey\n",
      "Hey\n",
      "Hey\n",
      "Hey\n",
      "Hey\n",
      "Hey\n",
      "Hey\n",
      "Hey\n",
      "Hey\n",
      "Hey\n",
      "Hey\n",
      "Hey\n",
      "Hey\n",
      "Hey\n",
      "Hey\n",
      "Hey\n",
      "Hey\n",
      "Hey\n",
      "Hey\n",
      "Hey\n",
      "Hey\n"
     ]
    }
   ],
   "source": [
    "for i in range(200):\n",
    "    print(\"Hey\")"
   ]
  },
  {
   "cell_type": "code",
   "execution_count": 119,
   "id": "a834905e",
   "metadata": {},
   "outputs": [
    {
     "name": "stdout",
     "output_type": "stream",
     "text": [
      "0 h1\n",
      "1 h1\n",
      "2 h1\n",
      "3 h1\n",
      "4 h1\n",
      "5 h1\n",
      "6 h1\n",
      "7 h1\n",
      "8 h1\n",
      "9 h1\n",
      "10 h1\n",
      "11 h1\n",
      "12 h1\n",
      "13 h1\n",
      "14 h1\n",
      "15 h1\n",
      "16 h1\n",
      "17 h1\n",
      "18 h1\n",
      "19 h1\n",
      "20 h1\n",
      "21 h1\n",
      "22 h1\n",
      "23 h1\n",
      "24 h1\n",
      "25 h1\n",
      "26 h1\n",
      "27 h1\n",
      "28 h1\n",
      "29 h1\n",
      "30 h1\n",
      "31 h1\n",
      "32 h1\n",
      "33 h1\n",
      "34 h1\n",
      "35 h1\n",
      "36 h1\n",
      "37 h1\n",
      "38 h1\n",
      "39 h1\n",
      "40 h1\n",
      "41 h1\n",
      "42 h1\n",
      "43 h1\n",
      "44 h1\n",
      "45 h1\n",
      "46 h1\n",
      "47 h1\n",
      "48 h1\n",
      "49 h1\n",
      "50 h1\n",
      "51 h1\n",
      "52 h1\n",
      "53 h1\n",
      "54 h1\n",
      "55 h1\n",
      "56 h1\n",
      "57 h1\n",
      "58 h1\n",
      "59 h1\n",
      "60 h1\n",
      "61 h1\n",
      "62 h1\n",
      "63 h1\n",
      "64 h1\n",
      "65 h1\n",
      "66 h1\n",
      "67 h1\n",
      "68 h1\n",
      "69 h1\n",
      "70 h1\n",
      "71 h1\n",
      "72 h1\n",
      "73 h1\n",
      "74 h1\n",
      "75 h1\n",
      "76 h1\n",
      "77 h1\n",
      "78 h1\n",
      "79 h1\n",
      "80 h1\n",
      "81 h1\n",
      "82 h1\n",
      "83 h1\n",
      "84 h1\n",
      "85 h1\n",
      "86 h1\n",
      "87 h1\n",
      "88 h1\n",
      "89 h1\n",
      "90 h1\n",
      "91 h1\n",
      "92 h1\n",
      "93 h1\n",
      "94 h1\n",
      "95 h1\n",
      "96 h1\n",
      "97 h1\n",
      "98 h1\n",
      "99 h1\n",
      "100 h1\n",
      "101 h1\n",
      "102 h1\n",
      "103 h1\n",
      "104 h1\n",
      "105 h1\n",
      "106 h1\n",
      "107 h1\n",
      "108 h1\n",
      "109 h1\n",
      "110 h1\n",
      "111 h1\n",
      "112 h1\n",
      "113 h1\n",
      "114 h1\n",
      "115 h1\n",
      "116 h1\n",
      "117 h1\n",
      "118 h1\n",
      "119 h1\n",
      "120 h1\n",
      "121 h1\n",
      "122 h1\n",
      "123 h1\n",
      "124 h1\n",
      "125 h1\n",
      "126 h1\n",
      "127 h1\n",
      "128 h1\n",
      "129 h1\n",
      "130 h1\n",
      "131 h1\n",
      "132 h1\n",
      "133 h1\n",
      "134 h1\n",
      "135 h1\n",
      "136 h1\n",
      "137 h1\n",
      "138 h1\n",
      "139 h1\n",
      "140 h1\n",
      "141 h1\n",
      "142 h1\n",
      "143 h1\n",
      "144 h1\n",
      "145 h1\n",
      "146 h1\n",
      "147 h1\n",
      "148 h1\n",
      "149 h1\n",
      "150 h1\n",
      "151 h1\n",
      "152 h1\n",
      "153 h1\n",
      "154 h1\n",
      "155 h1\n",
      "156 h1\n",
      "157 h1\n",
      "158 h1\n",
      "159 h1\n",
      "160 h1\n",
      "161 h1\n",
      "162 h1\n",
      "163 h1\n",
      "164 h1\n",
      "165 h1\n",
      "166 h1\n",
      "167 h1\n",
      "168 h1\n",
      "169 h1\n",
      "170 h1\n",
      "171 h1\n",
      "172 h1\n",
      "173 h1\n",
      "174 h1\n",
      "175 h1\n",
      "176 h1\n",
      "177 h1\n",
      "178 h1\n",
      "179 h1\n",
      "180 h1\n",
      "181 h1\n",
      "182 h1\n",
      "183 h1\n",
      "184 h1\n",
      "185 h1\n",
      "186 h1\n",
      "187 h1\n",
      "188 h1\n",
      "189 h1\n",
      "190 h1\n",
      "191 h1\n",
      "192 h1\n",
      "193 h1\n",
      "194 h1\n",
      "195 h1\n",
      "196 h1\n",
      "197 h1\n",
      "198 h1\n",
      "199 h1\n"
     ]
    }
   ],
   "source": [
    "for i in range(200):\n",
    "    print(i,end=\" \")\n",
    "    print('h1')"
   ]
  },
  {
   "cell_type": "markdown",
   "id": "45ded658",
   "metadata": {},
   "source": [
    "# conditional statement\n"
   ]
  },
  {
   "cell_type": "code",
   "execution_count": 128,
   "id": "324df64d",
   "metadata": {},
   "outputs": [
    {
     "name": "stdout",
     "output_type": "stream",
     "text": [
      "90 is a positive number\n"
     ]
    }
   ],
   "source": [
    "num=90\n",
    "if num>0:\n",
    "    print(num, \"is a positive number\")"
   ]
  },
  {
   "cell_type": "code",
   "execution_count": 129,
   "id": "a352a0b8",
   "metadata": {},
   "outputs": [
    {
     "ename": "SyntaxError",
     "evalue": "invalid syntax (2283013932.py, line 4)",
     "output_type": "error",
     "traceback": [
      "\u001b[1;36m  Input \u001b[1;32mIn [129]\u001b[1;36m\u001b[0m\n\u001b[1;33m    else\u001b[0m\n\u001b[1;37m        ^\u001b[0m\n\u001b[1;31mSyntaxError\u001b[0m\u001b[1;31m:\u001b[0m invalid syntax\n"
     ]
    }
   ],
   "source": [
    "num=-90\n",
    "if num>0:\n",
    "    print(num, \"is a positive number\")\n",
    "else\n",
    "    print(\"negetive number\")"
   ]
  },
  {
   "cell_type": "code",
   "execution_count": null,
   "id": "9e38258c",
   "metadata": {},
   "outputs": [],
   "source": []
  }
 ],
 "metadata": {
  "kernelspec": {
   "display_name": "Python 3 (ipykernel)",
   "language": "python",
   "name": "python3"
  },
  "language_info": {
   "codemirror_mode": {
    "name": "ipython",
    "version": 3
   },
   "file_extension": ".py",
   "mimetype": "text/x-python",
   "name": "python",
   "nbconvert_exporter": "python",
   "pygments_lexer": "ipython3",
   "version": "3.9.12"
  }
 },
 "nbformat": 4,
 "nbformat_minor": 5
}
